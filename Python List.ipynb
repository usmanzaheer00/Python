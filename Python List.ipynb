{
 "cells": [
  {
   "cell_type": "code",
   "execution_count": 3,
   "id": "1a22c9c8-ae7e-4723-958a-a6cc77d26723",
   "metadata": {},
   "outputs": [
    {
     "name": "stdin",
     "output_type": "stream",
     "text": [
      "Enter value: 1\n",
      "Enter value: 1\n",
      "Enter value: 3\n",
      "Enter value: 5\n",
      "Enter value: 4\n"
     ]
    },
    {
     "name": "stdout",
     "output_type": "stream",
     "text": [
      "The list is:  [1, 1, 3, 5, 4]\n"
     ]
    }
   ],
   "source": [
    "# TASK - 01\n",
    "\n",
    "my_list = []\n",
    "for i in range(5):\n",
    "    enter = int(input('Enter value:'))\n",
    "    my_list.append(enter)\n",
    "print('The list is: ', my_list)"
   ]
  },
  {
   "cell_type": "code",
   "execution_count": 20,
   "id": "77cef487-811b-40a3-9e52-48c769e44592",
   "metadata": {},
   "outputs": [
    {
     "name": "stdout",
     "output_type": "stream",
     "text": [
      "The updated list is: ['apple', 'kiwi', 'cherry', 'date', 'fig', 'grape']\n"
     ]
    }
   ],
   "source": [
    "# TASK - 02\n",
    "\n",
    "fruit = ['apple' , 'banana' , 'cherry' , 'date' , 'fig']\n",
    "fruit.append('grape')\n",
    "fruit.insert(2,'kiwi')\n",
    "fruit.remove('banana')\n",
    "print('The updated list is:' , fruit)\n",
    "\n",
    "\n"
   ]
  },
  {
   "cell_type": "code",
   "execution_count": 19,
   "id": "b6ca27f8-430a-401c-ae62-174f082155f0",
   "metadata": {},
   "outputs": [
    {
     "name": "stdout",
     "output_type": "stream",
     "text": [
      "[[2, 4, 6, 8, 10]]\n"
     ]
    }
   ],
   "source": [
    "# TASK - 03\n",
    "\n",
    "integers = [1,2,3,4,5,6,7,8,9,10]\n",
    "even_numbers = [integers[1: :2]]\n",
    "for i in even_numbers:\n",
    "       print(even_numbers)"
   ]
  },
  {
   "cell_type": "code",
   "execution_count": 21,
   "id": "9fa75195-e4af-4954-8005-5605910be7cd",
   "metadata": {},
   "outputs": [
    {
     "name": "stdout",
     "output_type": "stream",
     "text": [
      "Squares: [1, 4, 9, 16, 25, 36, 49, 64, 81, 100]\n",
      "words:  ['apple', 'banana', 'cherry', 'date', 'fig']\n",
      "word lenght: [5, 6, 6, 4, 3]\n"
     ]
    }
   ],
   "source": [
    "# TASK - 04\n",
    "\n",
    "squares = [x**2 for x in range(1,11)]\n",
    "words = ['apple' , 'banana' , 'cherry' , 'date' , 'fig']\n",
    "word_lenght = [len(word) for word in words]\n",
    "print('Squares:' , squares)\n",
    "print('words: ' , words)\n",
    "print('word lenght:' , word_lenght)\n"
   ]
  },
  {
   "cell_type": "code",
   "execution_count": 42,
   "id": "040cb22a-a6ae-489a-88d1-5aa841da5539",
   "metadata": {},
   "outputs": [
    {
     "name": "stdout",
     "output_type": "stream",
     "text": [
      "Students score: [92, 95] And the total no of students are: 2\n"
     ]
    }
   ],
   "source": [
    "# TASK - 05\n",
    "\n",
    "def score(s):\n",
    "    return [x for x in s if x>90]\n",
    "student_score= [85, 92, 78, 90, 88,95]\n",
    "scores = score(student_score)\n",
    "print(f\"Students score: {scores} And the total no of students are: {len(scores)}\")"
   ]
  },
  {
   "cell_type": "code",
   "execution_count": 36,
   "id": "8fb1c2d4-43a7-47e7-8660-dba4e86178c9",
   "metadata": {},
   "outputs": [
    {
     "name": "stdout",
     "output_type": "stream",
     "text": [
      "Ascending Order:  [1, 2, 3, 4, 5, 6, 7, 10]\n",
      "Descending Order:  [10, 7, 6, 5, 4, 3, 2, 1]\n"
     ]
    }
   ],
   "source": [
    "# TASK - 06\n",
    "\n",
    "unsorted_numbers = [3,2,5,1,10,6,7,4]\n",
    "unsorted_numbers.sort()\n",
    "print('Ascending Order: ' , unsorted_numbers)\n",
    "unsorted_numbers.sort(reverse = True)\n",
    "print('Descending Order: ' ,unsorted_numbers)\n",
    "\n",
    "\n",
    "\n",
    "\n"
   ]
  },
  {
   "cell_type": "code",
   "execution_count": 41,
   "id": "87bc7590-2256-4f4c-939b-4e7ac567c693",
   "metadata": {},
   "outputs": [
    {
     "name": "stdout",
     "output_type": "stream",
     "text": [
      "Integer List:  [1, 2, 3]\n",
      "String List:  ['apple', 'banana', 'cherry']\n"
     ]
    }
   ],
   "source": [
    "# TASK - 07\n",
    "\n",
    "mixed_data = [1 , 'apple' , 2 , 'banana' , 3 , 'cherry' ]\n",
    "int_list = [i for i in mixed_data if isinstance(i , int)]\n",
    "str_list = [s for s in mixed_data if isinstance(s , str)]\n",
    "print('Integer List: ' , int_list)\n",
    "print('String List: ' , str_list)"
   ]
  },
  {
   "cell_type": "code",
   "execution_count": null,
   "id": "a1839806-a22f-408c-9fd6-28ed8e154e9e",
   "metadata": {},
   "outputs": [],
   "source": []
  }
 ],
 "metadata": {
  "kernelspec": {
   "display_name": "Python 3 (ipykernel)",
   "language": "python",
   "name": "python3"
  },
  "language_info": {
   "codemirror_mode": {
    "name": "ipython",
    "version": 3
   },
   "file_extension": ".py",
   "mimetype": "text/x-python",
   "name": "python",
   "nbconvert_exporter": "python",
   "pygments_lexer": "ipython3",
   "version": "3.12.2"
  }
 },
 "nbformat": 4,
 "nbformat_minor": 5
}
