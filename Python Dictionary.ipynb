{
 "cells": [
  {
   "cell_type": "code",
   "execution_count": 2,
   "id": "a5229a26",
   "metadata": {
    "scrolled": false
   },
   "outputs": [
    {
     "name": "stdout",
     "output_type": "stream",
     "text": [
      "{'Name': 'Abu Huraira', 'Age': 22, ' Course': 'AI'}\n",
      "(101, {'Name': 'Abu Huraira', 'Age': 22, ' Course': 'AI'})\n",
      "(102, {'Name': 'Hamdan ', 'Age': 20, 'Course': 'Python'})\n",
      "(103, {'Name': 'Haris', 'Age': 20, 'Course': 'AI'})\n",
      "(104, {'Name': 'Ali Tahir', 'Age': 22, 'Course': 'Urdu'})\n"
     ]
    }
   ],
   "source": [
    "# TASK - 01\n",
    "\n",
    "student = {\n",
    "           100 : {'Name': 'Usman Zaheer', 'Age': 21 ,'Course': 'English'}, \n",
    "           101 : {'Name': 'Abu Huraira','Age':  22,' Course':  'AI'},\n",
    "           102 : {'Name': 'Hamdan ', 'Age':  20 , 'Course':  'Python'},\n",
    "           103 : {'Name': 'Haris' ,'Age': 20 ,'Course' : 'AI'}\n",
    "    \n",
    "}\n",
    "\n",
    "print(student[101])\n",
    "student.update({104:{'Name' : 'Ali Tahir' , 'Age' : 22 , 'Course' : 'Urdu'}})\n",
    "student.update({100:{'Name' : 'Ali Khan' , 'Age' : 22 , 'Course' : 'Acting'}})  \n",
    "student.pop(100)\n",
    "for i in student.items():\n",
    "        print(i)\n",
    "\n"
   ]
  },
  {
   "cell_type": "code",
   "execution_count": 3,
   "id": "6355cacc",
   "metadata": {},
   "outputs": [
    {
     "name": "stdout",
     "output_type": "stream",
     "text": [
      "0310-1928489\n",
      "('Abu Huraira ', '0322-5200669')\n",
      "('Haris', '0310-1928489')\n",
      "('Hamdan', '0333-0412545')\n"
     ]
    }
   ],
   "source": [
    "# TASK - 03\n",
    "\n",
    "phonebook = {\n",
    "    'Usman' : '0343-0562144',\n",
    "    'Abu Huraira ' : '0322-5200669',\n",
    "    'Haris' : '0310-1928489'\n",
    "}\n",
    "\n",
    "phonebook.update({'Hamdan' : '0333-0412545'})\n",
    "print(phonebook['Haris'])\n",
    "phonebook.pop('Usman')\n",
    "for i in phonebook.items():\n",
    "    print(i)\n",
    "\n",
    "\n",
    "\n"
   ]
  },
  {
   "cell_type": "code",
   "execution_count": 22,
   "id": "0feecd7f",
   "metadata": {},
   "outputs": [
    {
     "name": "stdout",
     "output_type": "stream",
     "text": [
      "('Gun', (450, 10))\n",
      "('Hammer', (35, 5))\n",
      "('Axe', (10, 5))\n",
      "_______________________________\n",
      "('Gun', (500, 10))\n",
      "('Hammer', (35, 5))\n",
      "('Axe', (10, 5))\n",
      "______________________________\n",
      "('Gun', (500, 10))\n",
      "('Hammer', (35, 5))\n",
      "('Axe', (10, 5))\n",
      "('Flame-thrower', (500, 15))\n",
      "_______________________________\n",
      "('Gun', (500, 10))\n",
      "('Axe', (10, 5))\n",
      "('Flame-thrower', (500, 15))\n",
      "_______________________________\n",
      " Name: Gun,Price : 500,  Quantity: 10\n",
      " Name: Axe,Price : 10,  Quantity: 5\n",
      " Name: Flame-thrower,Price : 500,  Quantity: 15\n",
      "________________________________\n",
      "Price Of Inventory : 12550\n"
     ]
    }
   ],
   "source": [
    "# TASK - 04\n",
    "\n",
    "inventory = {\n",
    "            'Gun' :  (450 , 10),\n",
    "            'Hammer' : (35 ,5),\n",
    "             'Axe' : (10 , 5)\n",
    "}\n",
    "for i in inventory.items():\n",
    "    print(i)\n",
    "print('_______________________________')\n",
    "\n",
    "inventory.update({'Gun' : (500,10)})\n",
    "for i in inventory.items():\n",
    "    print(i)\n",
    "print('______________________________')\n",
    "inventory.update({'Flame-thrower' : (500,15)})\n",
    "for i in inventory.items():\n",
    "    print(i)\n",
    "print('_______________________________')\n",
    "inventory.pop('Hammer')\n",
    "for i in inventory.items():\n",
    "    print(i)\n",
    "print('_______________________________')\n",
    "for name,(price,quantity) in inventory.items():\n",
    "    print(f\" Name: {name},Price : {price},  Quantity: {quantity}\")\n",
    "print('________________________________')\n",
    "x = 0\n",
    "for _,(price,quantity) in inventory.items():\n",
    "    x += price*quantity\n",
    "print(f\"Price Of Inventory : {x}\" )\n",
    "print('__________________________________')\n",
    "\n"
   ]
  },
  {
   "cell_type": "code",
   "execution_count": 24,
   "id": "7dea536a",
   "metadata": {},
   "outputs": [
    {
     "name": "stdout",
     "output_type": "stream",
     "text": [
      "{'apple': 2, 'banana': 1, 'cherry': 1}\n"
     ]
    }
   ],
   "source": [
    "# TASK - 02\n",
    "\n",
    "Fruits = ['Apple' , 'Banana' , 'apple' , 'Cherry']\n",
    "count = {}\n",
    "for i in Fruits:\n",
    "    x = i.lower()\n",
    "    if x in count:\n",
    "        count[x] += 1\n",
    "    else:\n",
    "        count[x] = 1\n",
    "print(count)"
   ]
  },
  {
   "cell_type": "code",
   "execution_count": null,
   "id": "4549f261",
   "metadata": {},
   "outputs": [],
   "source": []
  }
 ],
 "metadata": {
  "kernelspec": {
   "display_name": "Python 3",
   "language": "python",
   "name": "python3"
  },
  "language_info": {
   "codemirror_mode": {
    "name": "ipython",
    "version": 3
   },
   "file_extension": ".py",
   "mimetype": "text/x-python",
   "name": "python",
   "nbconvert_exporter": "python",
   "pygments_lexer": "ipython3",
   "version": "3.8.8"
  }
 },
 "nbformat": 4,
 "nbformat_minor": 5
}
