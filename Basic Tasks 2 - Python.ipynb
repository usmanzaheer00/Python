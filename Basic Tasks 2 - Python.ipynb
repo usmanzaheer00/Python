{
 "cells": [
  {
   "cell_type": "code",
   "execution_count": 1,
   "id": "24dc85de",
   "metadata": {},
   "outputs": [
    {
     "name": "stdout",
     "output_type": "stream",
     "text": [
      "1\n",
      "2\n",
      "3\n"
     ]
    }
   ],
   "source": [
    "if 'f' in 'foo' : print('1'); print('2'); print('3')"
   ]
  },
  {
   "cell_type": "code",
   "execution_count": 3,
   "id": "e990aa43",
   "metadata": {},
   "outputs": [
    {
     "name": "stdout",
     "output_type": "stream",
     "text": [
      "False\n"
     ]
    }
   ],
   "source": [
    "if 'z' in 'foo' : print('1'); print('2'); print('3')\n",
    "else:\n",
    "    print('False')"
   ]
  },
  {
   "cell_type": "code",
   "execution_count": 9,
   "id": "e22c541e",
   "metadata": {},
   "outputs": [
    {
     "name": "stdout",
     "output_type": "stream",
     "text": [
      "Enter Number: 1\n",
      "foo\n",
      "bar\n",
      "baz\n"
     ]
    }
   ],
   "source": [
    "x = int(input('Enter Number: '))\n",
    "if x == 1: print('foo'); print('bar'); print('baz')\n",
    "elif x == 2: print('Usman')\n",
    "else:\n",
    "    print('false')"
   ]
  },
  {
   "cell_type": "code",
   "execution_count": 26,
   "id": "a440dcbb",
   "metadata": {},
   "outputs": [
    {
     "name": "stdout",
     "output_type": "stream",
     "text": [
      "Enter True or False: False\n",
      "Lets go to the library\n"
     ]
    }
   ],
   "source": [
    "raining = bool(input('Enter True or False: '))\n",
    "print('Lets go to the',' beech' if not raining else 'library' )"
   ]
  },
  {
   "cell_type": "code",
   "execution_count": 31,
   "id": "5378f2d7",
   "metadata": {},
   "outputs": [
    {
     "name": "stdout",
     "output_type": "stream",
     "text": [
      "Lets go to the\n"
     ]
    },
    {
     "data": {
      "text/plain": [
       "'library'"
      ]
     },
     "execution_count": 31,
     "metadata": {},
     "output_type": "execute_result"
    }
   ],
   "source": [
    "raining = True\n",
    "print('Lets go to the')\n",
    "print('beech') if not raining else('library')"
   ]
  },
  {
   "cell_type": "code",
   "execution_count": 34,
   "id": "bdc5362b",
   "metadata": {},
   "outputs": [
    {
     "name": "stdout",
     "output_type": "stream",
     "text": [
      "Lets go to the\n",
      "beech\n",
      "library\n",
      "2\n"
     ]
    }
   ],
   "source": [
    "raining = True\n",
    "print('Lets go to the')\n",
    "print('beech');print('1') if not raining else print('library');print('2')\n"
   ]
  },
  {
   "cell_type": "code",
   "execution_count": 35,
   "id": "17f1f372",
   "metadata": {},
   "outputs": [
    {
     "name": "stdout",
     "output_type": "stream",
     "text": [
      "42\n"
     ]
    }
   ],
   "source": [
    "x = y = 40\n",
    "z = 1+x if x>y else y+2\n",
    "print(z)"
   ]
  },
  {
   "cell_type": "code",
   "execution_count": 40,
   "id": "75506161",
   "metadata": {},
   "outputs": [
    {
     "name": "stdout",
     "output_type": "stream",
     "text": [
      "403\n"
     ]
    }
   ],
   "source": [
    "x = 400\n",
    "y = 60\n",
    "z = 1 + (x if x > y else y) + 2\n",
    "print(z)"
   ]
  },
  {
   "cell_type": "code",
   "execution_count": 41,
   "id": "7753dac5",
   "metadata": {},
   "outputs": [
    {
     "name": "stdout",
     "output_type": "stream",
     "text": [
      "Usman\n",
      "Usman\n",
      "Usman\n",
      "Usman\n",
      "Usman\n",
      "Usman\n",
      "Usman\n",
      "Usman\n",
      "Usman\n",
      "Usman\n"
     ]
    }
   ],
   "source": [
    " a = 1\n",
    "while a <= 10 :\n",
    "    print ('Usman')\n",
    "    a = a+1\n"
   ]
  },
  {
   "cell_type": "code",
   "execution_count": 42,
   "id": "d6f6f662",
   "metadata": {},
   "outputs": [
    {
     "name": "stdout",
     "output_type": "stream",
     "text": [
      "hy\n",
      "hlo\n",
      "ok\n"
     ]
    }
   ],
   "source": [
    "a = [ 'hy' , 'hlo' , 'ok']\n",
    "for i in a:\n",
    "    print(i)"
   ]
  },
  {
   "cell_type": "code",
   "execution_count": 46,
   "id": "6a51112d",
   "metadata": {},
   "outputs": [
    {
     "name": "stdout",
     "output_type": "stream",
     "text": [
      "soda\n",
      "soda\n",
      "soda\n",
      "soda\n",
      "soda\n"
     ]
    }
   ],
   "source": [
    "for i in range (1,11,2):\n",
    "    print('soda')"
   ]
  },
  {
   "cell_type": "code",
   "execution_count": 4,
   "id": "3d580f54",
   "metadata": {},
   "outputs": [
    {
     "name": "stdout",
     "output_type": "stream",
     "text": [
      "Enter Number: 0\n",
      "ZERO\n"
     ]
    }
   ],
   "source": [
    "# TASK - 01\n",
    "\n",
    "n = int(input('Enter Number: '))\n",
    "if n > 0:\n",
    "    print('Positive Number')\n",
    "elif n < 0:\n",
    "    print('Negative Number ')\n",
    "else:\n",
    "    print('ZERO')"
   ]
  },
  {
   "cell_type": "code",
   "execution_count": 12,
   "id": "d2f436ff",
   "metadata": {},
   "outputs": [
    {
     "name": "stdout",
     "output_type": "stream",
     "text": [
      "Enter year:  2024\n",
      "2024 is leap year\n"
     ]
    }
   ],
   "source": [
    "# TASK - 02\n",
    "\n",
    "year = int(input('Enter year:  '))\n",
    "if year%4 == 0:\n",
    "    print(year ,'is leap year')\n",
    "else:\n",
    "    print(year, 'is not a leap year')\n"
   ]
  },
  {
   "cell_type": "code",
   "execution_count": 20,
   "id": "ea5cf25a",
   "metadata": {},
   "outputs": [
    {
     "name": "stdout",
     "output_type": "stream",
     "text": [
      "Enter Number: 5\n",
      "Factorial :  120\n"
     ]
    }
   ],
   "source": [
    "# TASK - 03\n",
    "\n",
    "num = int(input('Enter Number: '))\n",
    "fact = 1\n",
    "if num == 0:\n",
    "    print('Invalid Input')\n",
    "elif num == 1:\n",
    "    print ('1')\n",
    "else:\n",
    "    while  num > 1:\n",
    "            fact = fact * num\n",
    "            num = num -1\n",
    "    print('Factorial : ' , fact)\n",
    "        "
   ]
  },
  {
   "cell_type": "code",
   "execution_count": 4,
   "id": "840ad623",
   "metadata": {},
   "outputs": [
    {
     "name": "stdout",
     "output_type": "stream",
     "text": [
      "Enter a number: 10\n",
      "10 is not a prime number\n"
     ]
    }
   ],
   "source": [
    "# TASK - 04\n",
    "\n",
    "num = int(input('Enter a number: '))\n",
    "flag = False\n",
    "\n",
    "if num == 1:\n",
    "    print(num, \"is not a prime number\")\n",
    "elif num > 1:\n",
    "    for i in range(2, num):\n",
    "        if (num % i) == 0:\n",
    "            flag = True\n",
    "            break\n",
    "\n",
    "    if flag:\n",
    "        print(num, \"is not a prime number\")\n",
    "    else:\n",
    "        print(num, \"is a prime number\")\n"
   ]
  },
  {
   "cell_type": "code",
   "execution_count": 6,
   "id": "5a3c4851",
   "metadata": {},
   "outputs": [
    {
     "name": "stdout",
     "output_type": "stream",
     "text": [
      "How many terms: 10\n",
      "Fibonacci Serirs: \n",
      "0\n",
      "1\n",
      "1\n",
      "2\n",
      "3\n",
      "5\n",
      "8\n",
      "13\n",
      "21\n",
      "34\n"
     ]
    }
   ],
   "source": [
    "term = int(input('How many terms: '))\n",
    "num1 =0\n",
    "num2 =1\n",
    "a = 0\n",
    "if term < 0:\n",
    "    print('Invalid Input')\n",
    "else:\n",
    "    print('Fibonacci Serirs: ')\n",
    "    while a < term:\n",
    "        print(num1)\n",
    "        n = num1 + num2\n",
    "        num1 = num2\n",
    "        num2 = n\n",
    "        a = a+1"
   ]
  },
  {
   "cell_type": "code",
   "execution_count": 9,
   "id": "9afbe2d0",
   "metadata": {},
   "outputs": [
    {
     "name": "stdout",
     "output_type": "stream",
     "text": [
      "The sum is:  55\n"
     ]
    }
   ],
   "source": [
    "# TASK - 6\n",
    "\n",
    "sum = 0\n",
    "for i in range(1,11):\n",
    "    sum = sum + i\n",
    "else:\n",
    "    print('The sum is: ' , sum)"
   ]
  },
  {
   "cell_type": "code",
   "execution_count": 10,
   "id": "a41e47f9",
   "metadata": {},
   "outputs": [
    {
     "name": "stdout",
     "output_type": "stream",
     "text": [
      "Enter a number:101\n",
      "The number is palindrome!\n"
     ]
    }
   ],
   "source": [
    "# TASK - 07\n",
    "\n",
    "num=int(input(\"Enter a number:\"))\n",
    "temp=num\n",
    "rev=0\n",
    "while(num>0):\n",
    "    dig=num%10\n",
    "    rev=rev*10+dig\n",
    "    num=num//10\n",
    "if(temp==rev):\n",
    "    print(\"The number is palindrome!\")\n",
    "else:\n",
    "    print(\"Not a palindrome!\")"
   ]
  },
  {
   "cell_type": "code",
   "execution_count": 14,
   "id": "d9798628",
   "metadata": {},
   "outputs": [
    {
     "name": "stdout",
     "output_type": "stream",
     "text": [
      "Enter a number: 2\n",
      "2\n",
      "4\n",
      "6\n",
      "8\n",
      "10\n",
      "12\n",
      "14\n",
      "16\n",
      "18\n",
      "20\n"
     ]
    }
   ],
   "source": [
    "# TASK - 08\n",
    "num = int(input('Enter a number: '))\n",
    "for i in range (1 , 11 ):\n",
    "    print(num*i)\n"
   ]
  },
  {
   "cell_type": "code",
   "execution_count": 17,
   "id": "248e8c10",
   "metadata": {},
   "outputs": [
    {
     "ename": "IndexError",
     "evalue": "list index out of range",
     "output_type": "error",
     "traceback": [
      "\u001b[1;31m---------------------------------------------------------------------------\u001b[0m",
      "\u001b[1;31mIndexError\u001b[0m                                Traceback (most recent call last)",
      "\u001b[1;32m<ipython-input-17-80c5bd266d8f>\u001b[0m in \u001b[0;36m<module>\u001b[1;34m\u001b[0m\n\u001b[0;32m      3\u001b[0m \u001b[0mmax\u001b[0m \u001b[1;33m=\u001b[0m \u001b[0ml\u001b[0m\u001b[1;33m[\u001b[0m\u001b[1;36m0\u001b[0m\u001b[1;33m]\u001b[0m\u001b[1;33m\u001b[0m\u001b[1;33m\u001b[0m\u001b[0m\n\u001b[0;32m      4\u001b[0m \u001b[1;32mfor\u001b[0m \u001b[0mi\u001b[0m \u001b[1;32min\u001b[0m \u001b[0ml\u001b[0m\u001b[1;33m:\u001b[0m\u001b[1;33m\u001b[0m\u001b[1;33m\u001b[0m\u001b[0m\n\u001b[1;32m----> 5\u001b[1;33m     \u001b[1;32mif\u001b[0m  \u001b[0ml\u001b[0m\u001b[1;33m[\u001b[0m\u001b[0mi\u001b[0m\u001b[1;33m]\u001b[0m\u001b[1;33m>\u001b[0m\u001b[0mmax\u001b[0m\u001b[1;33m:\u001b[0m\u001b[1;33m\u001b[0m\u001b[1;33m\u001b[0m\u001b[0m\n\u001b[0m\u001b[0;32m      6\u001b[0m         \u001b[0mmax\u001b[0m \u001b[1;33m=\u001b[0m \u001b[0ml\u001b[0m\u001b[1;33m[\u001b[0m\u001b[0mi\u001b[0m\u001b[1;33m]\u001b[0m\u001b[1;33m\u001b[0m\u001b[1;33m\u001b[0m\u001b[0m\n\u001b[0;32m      7\u001b[0m \u001b[0mprint\u001b[0m\u001b[1;33m(\u001b[0m\u001b[1;34m'max is: '\u001b[0m \u001b[1;33m,\u001b[0m \u001b[0mmax\u001b[0m\u001b[1;33m)\u001b[0m\u001b[1;33m\u001b[0m\u001b[1;33m\u001b[0m\u001b[0m\n",
      "\u001b[1;31mIndexError\u001b[0m: list index out of range"
     ]
    }
   ],
   "source": [
    "# TASK - 09\n",
    "l = [1,2,3,4]\n",
    "max = l[0]\n",
    "for i in l:\n",
    "    if  l[i]>max:\n",
    "        max = l[i]\n",
    "print('max is: ' , max)"
   ]
  },
  {
   "cell_type": "markdown",
   "id": "3ae3c7e1",
   "metadata": {},
   "source": [
    "# TASK - 10\n",
    "\n",
    "n1 = int(input(\n"
   ]
  },
  {
   "cell_type": "code",
   "execution_count": null,
   "id": "6555012d",
   "metadata": {},
   "outputs": [],
   "source": [
    "# TASK - 10\n",
    "\n",
    "n1 = int(input('Enter n1: '))\n",
    "n2 = int(input('Enter n2: '))\n",
    "choice = int(input('Enter choice: '))\n",
    "if choice ==1:\n",
    "    print(n1+n2)\n",
    "elif choice == 2:\n",
    "    print(n1-n2)\n",
    "elif choice==3:\n",
    "    print (n1*n2)\n",
    "else:"
   ]
  },
  {
   "cell_type": "code",
   "execution_count": 18,
   "id": "826642ae",
   "metadata": {},
   "outputs": [
    {
     "name": "stdout",
     "output_type": "stream",
     "text": [
      "Enter n1: 2\n",
      "Enter n2: 2\n",
      "Enter choice: 1\n",
      "4\n"
     ]
    }
   ],
   "source": [
    "    print(n1/n2)"
   ]
  },
  {
   "cell_type": "code",
   "execution_count": null,
   "id": "c75755f1",
   "metadata": {},
   "outputs": [],
   "source": []
  }
 ],
 "metadata": {
  "kernelspec": {
   "display_name": "Python 3",
   "language": "python",
   "name": "python3"
  },
  "language_info": {
   "codemirror_mode": {
    "name": "ipython",
    "version": 3
   },
   "file_extension": ".py",
   "mimetype": "text/x-python",
   "name": "python",
   "nbconvert_exporter": "python",
   "pygments_lexer": "ipython3",
   "version": "3.8.8"
  }
 },
 "nbformat": 4,
 "nbformat_minor": 5
}
