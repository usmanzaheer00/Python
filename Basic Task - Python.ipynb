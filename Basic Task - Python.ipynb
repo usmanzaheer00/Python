{
 "cells": [
  {
   "cell_type": "code",
   "execution_count": null,
   "id": "c39c29ed",
   "metadata": {},
   "outputs": [],
   "source": []
  },
  {
   "cell_type": "code",
   "execution_count": 2,
   "id": "0ab40a45",
   "metadata": {},
   "outputs": [
    {
     "name": "stdout",
     "output_type": "stream",
     "text": [
      "['False', 'None', 'True', 'and', 'as', 'assert', 'async', 'await', 'break', 'class', 'continue', 'def', 'del', 'elif', 'else', 'except', 'finally', 'for', 'from', 'global', 'if', 'import', 'in', 'is', 'lambda', 'nonlocal', 'not', 'or', 'pass', 'raise', 'return', 'try', 'while', 'with', 'yield']\n"
     ]
    }
   ],
   "source": [
    "import keyword\n",
    "print(keyword.kwlist)"
   ]
  },
  {
   "cell_type": "code",
   "execution_count": 3,
   "id": "157271d7",
   "metadata": {},
   "outputs": [
    {
     "name": "stdout",
     "output_type": "stream",
     "text": [
      "True\n"
     ]
    }
   ],
   "source": [
    "import keyword\n",
    "word = \"if\"\n",
    "is_keyword = keyword.iskeyword(word)\n",
    "print(is_keyword)"
   ]
  },
  {
   "cell_type": "code",
   "execution_count": 4,
   "id": "1cebd12f",
   "metadata": {},
   "outputs": [
    {
     "name": "stdout",
     "output_type": "stream",
     "text": [
      "False\n"
     ]
    }
   ],
   "source": [
    "import keyword\n",
    "word = \"Neech\"\n",
    "is_keyword = keyword.iskeyword(word)\n",
    "print(is_keyword)"
   ]
  },
  {
   "cell_type": "code",
   "execution_count": 5,
   "id": "1165cb45",
   "metadata": {},
   "outputs": [
    {
     "name": "stdout",
     "output_type": "stream",
     "text": [
      "True\n"
     ]
    }
   ],
   "source": [
    "import keyword\n",
    "word = \"while\"\n",
    "is_keyword = keyword.iskeyword(word)\n",
    "print(is_keyword)"
   ]
  },
  {
   "cell_type": "code",
   "execution_count": 6,
   "id": "506b0148",
   "metadata": {},
   "outputs": [
    {
     "name": "stdout",
     "output_type": "stream",
     "text": [
      "I am Usman Zaheer.\n"
     ]
    }
   ],
   "source": [
    "string = 'I am Usman Zaheer.'\n",
    "print(string)"
   ]
  },
  {
   "cell_type": "code",
   "execution_count": 7,
   "id": "11b77f21",
   "metadata": {},
   "outputs": [
    {
     "name": "stdout",
     "output_type": "stream",
     "text": [
      "Hello! \n",
      "i am Usman\n"
     ]
    }
   ],
   "source": [
    "string  = '''Hello! \n",
    "i am Usman'''\n",
    "print(string)"
   ]
  },
  {
   "cell_type": "code",
   "execution_count": 8,
   "id": "85d8ea2f",
   "metadata": {},
   "outputs": [
    {
     "name": "stdout",
     "output_type": "stream",
     "text": [
      "Enter number 1: 6\n",
      "6\n"
     ]
    }
   ],
   "source": [
    " a = input(\"Enter number 1: \")\n",
    "print(a)"
   ]
  },
  {
   "cell_type": "code",
   "execution_count": 10,
   "id": "c862ec2f",
   "metadata": {},
   "outputs": [
    {
     "name": "stdout",
     "output_type": "stream",
     "text": [
      "Name:  Usman Age:  21\n"
     ]
    }
   ],
   "source": [
    "name = \"Usman\"\n",
    "age = 21\n",
    "print(\"Name: \" , name , \"Age: \" ,age)"
   ]
  },
  {
   "cell_type": "code",
   "execution_count": 12,
   "id": "2cbcc2bc",
   "metadata": {},
   "outputs": [
    {
     "name": "stdout",
     "output_type": "stream",
     "text": [
      "Name:  Usman , Age: 21 \n"
     ]
    }
   ],
   "source": [
    "name = \"Usman\"\n",
    "age = 21\n",
    "print(\"Name:  {} , Age: {} \".format(name,age))"
   ]
  },
  {
   "cell_type": "code",
   "execution_count": 19,
   "id": "880c7b33",
   "metadata": {},
   "outputs": [
    {
     "name": "stdout",
     "output_type": "stream",
     "text": [
      "Name:  Usman , Age: 21 \n",
      "Usman|21\n",
      "Usman|21|Cheeeeeaaa!\n",
      "<class 'str'>\n",
      "<class 'int'>\n"
     ]
    }
   ],
   "source": [
    "name = \"Usman\"\n",
    "age = 21\n",
    "print(f\"Name:  {name} , Age: {age} \")\n",
    "print(name,age , sep =\"|\")\n",
    "print(name,age,sep=\"|\",end=\"|\")\n",
    "print(\"Cheeeeeaaa!\")\n",
    "print(type(name))\n",
    "print(type(age))"
   ]
  },
  {
   "cell_type": "code",
   "execution_count": 3,
   "id": "31124866",
   "metadata": {},
   "outputs": [
    {
     "name": "stdout",
     "output_type": "stream",
     "text": [
      "Enter your name: Usman Zaheer\n",
      "Enter your age:21\n",
      "Name: Usman Zaheer , Age: 21 , Birth_Year: 2003\n"
     ]
    }
   ],
   "source": [
    "# Task 1:\n",
    "\n",
    "name = input(\"Enter your name: \")\n",
    "age =int(input(\"Enter your age:\"))\n",
    "birth_year = 2024 - age\n",
    "print(f\"Name: {name} , Age: {age} , Birth_Year: {birth_year}\")\n"
   ]
  },
  {
   "cell_type": "code",
   "execution_count": 5,
   "id": "af5475d2",
   "metadata": {},
   "outputs": [
    {
     "name": "stdout",
     "output_type": "stream",
     "text": [
      "Enter Your height in Inches: 7\n",
      "Height in cm :  17.78\n"
     ]
    }
   ],
   "source": [
    "# Task 2:\n",
    "\n",
    "height = int(input(\"Enter Your height in Inches: \"))\n",
    "height_C = height*2.54\n",
    "print(f\"Height in cm :  {height_C}\")"
   ]
  },
  {
   "cell_type": "code",
   "execution_count": 7,
   "id": "5678b2b2",
   "metadata": {},
   "outputs": [
    {
     "name": "stdout",
     "output_type": "stream",
     "text": [
      "Enter temperature in fahrenhite: 4\n",
      "Celciues: -15.555555555555555\n"
     ]
    }
   ],
   "source": [
    "# Task 3\n",
    "\n",
    "temp = int(input(\"Enter temperature in fahrenhite: \"))\n",
    "C = (temp - 32)*5/9\n",
    "print(f\"Celciues: {C}\")"
   ]
  },
  {
   "cell_type": "code",
   "execution_count": 8,
   "id": "58f87bc7",
   "metadata": {},
   "outputs": [
    {
     "name": "stdout",
     "output_type": "stream",
     "text": [
      "Enter radius: 78\n",
      "Area: 19103.760000000002\n"
     ]
    }
   ],
   "source": [
    "# Task 4\n",
    "\n",
    "radius = float(input(\"Enter radius: \"))\n",
    "Area = 3.14*radius*radius\n",
    "print(f\"Area: {Area}\")"
   ]
  },
  {
   "cell_type": "code",
   "execution_count": 10,
   "id": "0a9d89a7",
   "metadata": {},
   "outputs": [
    {
     "name": "stdout",
     "output_type": "stream",
     "text": [
      "Enter Number: 3\n",
      "square: 9\n"
     ]
    }
   ],
   "source": [
    "# Task 5\n",
    "\n",
    "num = int(input(\"Enter Number: \"))\n",
    "S = num*num\n",
    "print(f\"square: {S}\")"
   ]
  },
  {
   "cell_type": "code",
   "execution_count": 12,
   "id": "a23d3046",
   "metadata": {},
   "outputs": [
    {
     "name": "stdout",
     "output_type": "stream",
     "text": [
      "weight in pounds: 7\n",
      "Wight in kg: 3.175144\n"
     ]
    }
   ],
   "source": [
    "# Task 6\n",
    "\n",
    "P = int(input(\"weight in pounds: \"))\n",
    "kg = P*0.453592\n",
    "print(f\"Wight in kg: {kg}\")"
   ]
  },
  {
   "cell_type": "code",
   "execution_count": 13,
   "id": "f1669133",
   "metadata": {},
   "outputs": [
    {
     "name": "stdout",
     "output_type": "stream",
     "text": [
      "Enter width: 7\n",
      "Enter lenght: 9\n",
      "Enter height: 2\n",
      "volume: 126\n"
     ]
    }
   ],
   "source": [
    "# Task 7\n",
    "\n",
    "w = int(input(\"Enter width: \"))\n",
    "l = int(input(\"Enter lenght: \"))\n",
    "h = int(input(\"Enter height: \"))\n",
    "vol = l*h*w\n",
    "print(f\"volume: {vol}\")"
   ]
  },
  {
   "cell_type": "code",
   "execution_count": null,
   "id": "602b5715",
   "metadata": {},
   "outputs": [],
   "source": []
  }
 ],
 "metadata": {
  "kernelspec": {
   "display_name": "Python 3",
   "language": "python",
   "name": "python3"
  },
  "language_info": {
   "codemirror_mode": {
    "name": "ipython",
    "version": 3
   },
   "file_extension": ".py",
   "mimetype": "text/x-python",
   "name": "python",
   "nbconvert_exporter": "python",
   "pygments_lexer": "ipython3",
   "version": "3.8.8"
  }
 },
 "nbformat": 4,
 "nbformat_minor": 5
}
